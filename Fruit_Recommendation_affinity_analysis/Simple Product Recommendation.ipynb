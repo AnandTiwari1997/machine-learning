{
 "cells": [
  {
   "cell_type": "code",
   "execution_count": 1,
   "metadata": {
    "collapsed": true
   },
   "outputs": [],
   "source": [
    "import numpy as np"
   ]
  },
  {
   "cell_type": "code",
   "execution_count": 2,
   "metadata": {
    "collapsed": false
   },
   "outputs": [
    {
     "data": {
      "text/plain": [
       "array([[ 0.,  1.,  0.,  0.,  0.],\n",
       "       [ 1.,  1.,  0.,  0.,  0.],\n",
       "       [ 0.,  0.,  1.,  0.,  1.],\n",
       "       [ 1.,  1.,  0.,  0.,  0.],\n",
       "       [ 0.,  0.,  1.,  1.,  1.]])"
      ]
     },
     "execution_count": 2,
     "metadata": {},
     "output_type": "execute_result"
    }
   ],
   "source": [
    "X = np.loadtxt('affinity_dataset.txt')\n",
    "X[:5]"
   ]
  },
  {
   "cell_type": "code",
   "execution_count": 3,
   "metadata": {
    "collapsed": true
   },
   "outputs": [],
   "source": [
    "col = ['Apple', 'Banana', 'Cheese', 'Mango', 'Bread']"
   ]
  },
  {
   "cell_type": "code",
   "execution_count": 4,
   "metadata": {
    "collapsed": false
   },
   "outputs": [
    {
     "name": "stdout",
     "output_type": "stream",
     "text": [
      "28 number of Apple\n",
      "52 number of Banana\n",
      "39 number of Cheese\n",
      "43 number of Mango\n",
      "57 number of Bread\n"
     ]
    }
   ],
   "source": [
    "num_apple = 0\n",
    "num_banana = 0\n",
    "num_cheese = 0\n",
    "num_mango = 0\n",
    "num_bread = 0\n",
    "\n",
    "for sample in X:\n",
    "    if sample[0] == 1:\n",
    "        num_apple += 1\n",
    "    if sample[1] == 1:\n",
    "        num_banana += 1\n",
    "    if sample[2] == 1:\n",
    "        num_cheese += 1\n",
    "    if sample[3] == 1:\n",
    "        num_mango += 1\n",
    "    if sample[4] == 1:\n",
    "        num_bread += 1\n",
    "    \n",
    "print(\"{0} number of Apple\".format(num_apple))\n",
    "print(\"{0} number of Banana\".format(num_banana))\n",
    "print(\"{0} number of Cheese\".format(num_cheese))\n",
    "print(\"{0} number of Mango\".format(num_mango))\n",
    "print(\"{0} number of Bread\".format(num_bread))"
   ]
  },
  {
   "cell_type": "code",
   "execution_count": 5,
   "metadata": {
    "collapsed": true
   },
   "outputs": [],
   "source": [
    "# Rule: If a person buy Apple, he also buy Mango"
   ]
  },
  {
   "cell_type": "code",
   "execution_count": 6,
   "metadata": {
    "collapsed": false
   },
   "outputs": [],
   "source": [
    "from collections import defaultdict\n",
    "valid_rule = defaultdict(int)\n",
    "invalid_rule = defaultdict(int)\n",
    "num_occurance = defaultdict(int)\n",
    "support = defaultdict(int)\n",
    "confidence = defaultdict(float)\n",
    "\n",
    "def get_rules():\n",
    "    for sample in X:\n",
    "        for premise in range(4):\n",
    "            if sample[premise] == 0:\n",
    "                continue\n",
    "            else:\n",
    "                num_occurance[premise] += 1\n",
    "                for conclusion in range(5):\n",
    "                    if conclusion == premise:\n",
    "                        continue\n",
    "                    else:\n",
    "                        if sample[conclusion] == 1:\n",
    "                            valid_rule[(premise, conclusion)] += 1\n",
    "                        else:\n",
    "                            invalid_rule[(premise, conclusion)] += 1   \n",
    "    \n",
    "    support = valid_rule\n",
    "    confidence = defaultdict(float)\n",
    "    for premise, conclusion in valid_rule.keys():\n",
    "        rule = (premise, conclusion)\n",
    "        confidence[rule] = support[rule] / num_occurance[premise]\n",
    "    \n",
    "    return support, confidence"
   ]
  },
  {
   "cell_type": "code",
   "execution_count": 7,
   "metadata": {
    "collapsed": false
   },
   "outputs": [],
   "source": [
    "support, confidence = get_rules()"
   ]
  },
  {
   "cell_type": "code",
   "execution_count": 8,
   "metadata": {
    "collapsed": true
   },
   "outputs": [],
   "source": [
    "def print_rule(premise, conclusion, support, confidence, feature):\n",
    "    premise_name = feature[premise]\n",
    "    conclusion_name = feature[conclusion]\n",
    "    print(\"\\tRule: If a person buy {0}, he also buy {1}\".format(premise_name, conclusion_name))\n",
    "    print(\"\\tSupport : {0}\".format(support[(premise, conclusion)]))\n",
    "    print(\"\\tConfidence : {0}\".format(confidence[(premise, conclusion)]))"
   ]
  },
  {
   "cell_type": "code",
   "execution_count": 9,
   "metadata": {
    "collapsed": false
   },
   "outputs": [
    {
     "name": "stdout",
     "output_type": "stream",
     "text": [
      "\tRule: If a person buy Banana, he also buy Mango\n",
      "\tSupport : 18\n",
      "\tConfidence : 0.34615384615384615\n"
     ]
    }
   ],
   "source": [
    "print_rule(1, 3, support, confidence, col)"
   ]
  },
  {
   "cell_type": "code",
   "execution_count": 10,
   "metadata": {
    "collapsed": true
   },
   "outputs": [],
   "source": [
    "# Getting top 5 Rules based on Support"
   ]
  },
  {
   "cell_type": "code",
   "execution_count": 11,
   "metadata": {
    "collapsed": false
   },
   "outputs": [
    {
     "name": "stdout",
     "output_type": "stream",
     "text": [
      "Rule #0\n",
      "\tRule: If a person buy Banana, he also buy Bread\n",
      "\tSupport : 27\n",
      "\tConfidence : 0.5192307692307693\n",
      "\n",
      "\n",
      "Rule #1\n",
      "\tRule: If a person buy Mango, he also buy Bread\n",
      "\tSupport : 27\n",
      "\tConfidence : 0.627906976744186\n",
      "\n",
      "\n",
      "Rule #2\n",
      "\tRule: If a person buy Mango, he also buy Cheese\n",
      "\tSupport : 22\n",
      "\tConfidence : 0.5116279069767442\n",
      "\n",
      "\n",
      "Rule #3\n",
      "\tRule: If a person buy Cheese, he also buy Mango\n",
      "\tSupport : 22\n",
      "\tConfidence : 0.5641025641025641\n",
      "\n",
      "\n",
      "Rule #4\n",
      "\tRule: If a person buy Cheese, he also buy Bread\n",
      "\tSupport : 20\n",
      "\tConfidence : 0.5128205128205128\n",
      "\n",
      "\n"
     ]
    }
   ],
   "source": [
    "from operator import itemgetter\n",
    "sorted_support = sorted(support.items(), key=itemgetter(1), reverse=True)\n",
    "\n",
    "for i in range(5):\n",
    "    print(\"Rule #{0}\".format(i))\n",
    "    premise, conclusion = sorted_support[i][0]\n",
    "    print_rule(premise, conclusion, support, confidence, col)\n",
    "    print(\"\\n\")"
   ]
  },
  {
   "cell_type": "code",
   "execution_count": 12,
   "metadata": {
    "collapsed": false
   },
   "outputs": [],
   "source": [
    "# top 5 rules based on confidence"
   ]
  },
  {
   "cell_type": "code",
   "execution_count": 13,
   "metadata": {
    "collapsed": false
   },
   "outputs": [
    {
     "name": "stdout",
     "output_type": "stream",
     "text": [
      "Rule #0\n",
      "\tRule: If a person buy Mango, he also buy Bread\n",
      "\tSupport : 27\n",
      "\tConfidence : 0.627906976744186\n",
      "\n",
      "\n",
      "Rule #1\n",
      "\tRule: If a person buy Apple, he also buy Bread\n",
      "\tSupport : 16\n",
      "\tConfidence : 0.5714285714285714\n",
      "\n",
      "\n",
      "Rule #2\n",
      "\tRule: If a person buy Cheese, he also buy Mango\n",
      "\tSupport : 22\n",
      "\tConfidence : 0.5641025641025641\n",
      "\n",
      "\n",
      "Rule #3\n",
      "\tRule: If a person buy Banana, he also buy Bread\n",
      "\tSupport : 27\n",
      "\tConfidence : 0.5192307692307693\n",
      "\n",
      "\n",
      "Rule #4\n",
      "\tRule: If a person buy Cheese, he also buy Bread\n",
      "\tSupport : 20\n",
      "\tConfidence : 0.5128205128205128\n",
      "\n",
      "\n"
     ]
    }
   ],
   "source": [
    "sorted_confidence = sorted(confidence.items(), key=itemgetter(1), reverse=True)\n",
    "\n",
    "for i in range(5):\n",
    "    print(\"Rule #{0}\".format(i))\n",
    "    premise, conclusion = sorted_confidence[i][0]\n",
    "    print_rule(premise, conclusion, support, confidence, col)\n",
    "    print(\"\\n\")"
   ]
  },
  {
   "cell_type": "code",
   "execution_count": 14,
   "metadata": {
    "collapsed": true
   },
   "outputs": [],
   "source": [
    "# On the basis of both result Rules are: \n",
    "#     Mango --> Bread\n",
    "#     Banana --> Bread\n",
    "#     Cheese --> Bread\n",
    "#     Cheese --> Mango or Mango --> Cheese"
   ]
  }
 ],
 "metadata": {
  "anaconda-cloud": {},
  "kernelspec": {
   "display_name": "Python [conda env:Anaconda3]",
   "language": "python",
   "name": "conda-env-Anaconda3-py"
  },
  "language_info": {
   "codemirror_mode": {
    "name": "ipython",
    "version": 3
   },
   "file_extension": ".py",
   "mimetype": "text/x-python",
   "name": "python",
   "nbconvert_exporter": "python",
   "pygments_lexer": "ipython3",
   "version": "3.5.2"
  }
 },
 "nbformat": 4,
 "nbformat_minor": 1
}
